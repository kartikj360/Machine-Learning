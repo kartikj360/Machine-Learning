{
  "nbformat": 4,
  "nbformat_minor": 0,
  "metadata": {
    "colab": {
      "provenance": []
    },
    "kernelspec": {
      "name": "python3",
      "display_name": "Python 3"
    },
    "language_info": {
      "name": "python"
    }
  },
  "cells": [
    {
      "cell_type": "code",
      "execution_count": null,
      "metadata": {
        "colab": {
          "base_uri": "https://localhost:8080/"
        },
        "id": "g2LK7EI5uxQi",
        "outputId": "4cbb9914-317a-4b93-9216-006f160acea3"
      },
      "outputs": [
        {
          "output_type": "stream",
          "name": "stderr",
          "text": [
            "/usr/local/lib/python3.10/dist-packages/sklearn/datasets/_openml.py:301: UserWarning: Multiple active versions of the dataset matching the name titanic exist. Versions may be fundamentally different, returning version 2.\n",
            "  warn(\n",
            "/usr/local/lib/python3.10/dist-packages/sklearn/datasets/_openml.py:968: FutureWarning: The default value of `parser` will change from `'liac-arff'` to `'auto'` in 1.4. You can set `parser='auto'` to silence this warning. Therefore, an `ImportError` will be raised from 1.4 if the dataset is dense and pandas is not installed. Note that the pandas parser may return different data types. See the Notes Section in fetch_openml's API doc for details.\n",
            "  warn(\n"
          ]
        },
        {
          "output_type": "execute_result",
          "data": {
            "text/plain": [
              "{'data':        Class    Age    Sex\n",
              " 0    -1.8700 -0.228  0.521\n",
              " 1    -0.9230 -0.228 -1.920\n",
              " 2    -0.9230 -0.228 -1.920\n",
              " 3     0.9650 -0.228  0.521\n",
              " 4     0.0214 -0.228  0.521\n",
              " ...      ...    ...    ...\n",
              " 2196  0.9650 -0.228  0.521\n",
              " 2197 -0.9230 -0.228  0.521\n",
              " 2198 -1.8700 -0.228  0.521\n",
              " 2199  0.9650 -0.228  0.521\n",
              " 2200 -0.9230 -0.228 -1.920\n",
              " \n",
              " [2201 rows x 3 columns],\n",
              " 'target': 0       -1\n",
              " 1        1\n",
              " 2        1\n",
              " 3        1\n",
              " 4       -1\n",
              "         ..\n",
              " 2196    -1\n",
              " 2197    -1\n",
              " 2198    -1\n",
              " 2199    -1\n",
              " 2200     1\n",
              " Name: class, Length: 2201, dtype: category\n",
              " Categories (2, object): ['-1', '1'],\n",
              " 'frame':        Class    Age    Sex class\n",
              " 0    -1.8700 -0.228  0.521    -1\n",
              " 1    -0.9230 -0.228 -1.920     1\n",
              " 2    -0.9230 -0.228 -1.920     1\n",
              " 3     0.9650 -0.228  0.521     1\n",
              " 4     0.0214 -0.228  0.521    -1\n",
              " ...      ...    ...    ...   ...\n",
              " 2196  0.9650 -0.228  0.521    -1\n",
              " 2197 -0.9230 -0.228  0.521    -1\n",
              " 2198 -1.8700 -0.228  0.521    -1\n",
              " 2199  0.9650 -0.228  0.521    -1\n",
              " 2200 -0.9230 -0.228 -1.920     1\n",
              " \n",
              " [2201 rows x 4 columns],\n",
              " 'categories': None,\n",
              " 'feature_names': ['Class', 'Age', 'Sex'],\n",
              " 'target_names': ['class'],\n",
              " 'DESCR': 'PMLB version of the Titanic dataset, which only uses 3 features. See version 1 for the complete version: https://www.openml.org/d/40945\\n\\nDownloaded from openml.org.',\n",
              " 'details': {'id': '40704',\n",
              "  'name': 'Titanic',\n",
              "  'version': '2',\n",
              "  'description_version': '1',\n",
              "  'format': 'ARFF',\n",
              "  'upload_date': '2017-04-06T12:38:28',\n",
              "  'licence': 'public',\n",
              "  'url': 'https://api.openml.org/data/v1/download/4965305/Titanic.arff',\n",
              "  'parquet_url': 'http://openml1.win.tue.nl/dataset40704/dataset_40704.pq',\n",
              "  'file_id': '4965305',\n",
              "  'default_target_attribute': 'class',\n",
              "  'tag': 'derived',\n",
              "  'visibility': 'public',\n",
              "  'minio_url': 'http://openml1.win.tue.nl/dataset40704/dataset_40704.pq',\n",
              "  'status': 'active',\n",
              "  'processing_date': '2018-10-04 07:15:38',\n",
              "  'md5_checksum': '08416114dd85d0ebd932fcb1d87650c1'},\n",
              " 'url': 'https://www.openml.org/d/40704'}"
            ]
          },
          "metadata": {},
          "execution_count": 10
        }
      ],
      "source": [
        "from sklearn.datasets import fetch_openml\n",
        "titanic=fetch_openml(\"titanic\")\n",
        "titanic"
      ]
    },
    {
      "cell_type": "code",
      "source": [
        "from sklearn.model_selection import train_test_split\n",
        "from sklearn.neighbors import KNeighborsClassifier\n",
        "from sklearn.metrics import accuracy_score"
      ],
      "metadata": {
        "id": "B2O9V7zYu3kW"
      },
      "execution_count": null,
      "outputs": []
    },
    {
      "cell_type": "code",
      "source": [
        "X_train,X_test,Y_train,Y_test=train_test_split(titanic.data,titanic.target,train_size=0.8,random_state=45)"
      ],
      "metadata": {
        "id": "3YJeaVuFvmzT"
      },
      "execution_count": null,
      "outputs": []
    },
    {
      "cell_type": "code",
      "source": [
        "knn=KNeighborsClassifier()\n",
        "knn.fit(X_train,Y_train)"
      ],
      "metadata": {
        "colab": {
          "base_uri": "https://localhost:8080/",
          "height": 74
        },
        "id": "ujtklkfCwKxZ",
        "outputId": "d6e62dfd-7db4-4d8a-b6db-d571d6869ced"
      },
      "execution_count": null,
      "outputs": [
        {
          "output_type": "execute_result",
          "data": {
            "text/plain": [
              "KNeighborsClassifier()"
            ],
            "text/html": [
              "<style>#sk-container-id-1 {color: black;background-color: white;}#sk-container-id-1 pre{padding: 0;}#sk-container-id-1 div.sk-toggleable {background-color: white;}#sk-container-id-1 label.sk-toggleable__label {cursor: pointer;display: block;width: 100%;margin-bottom: 0;padding: 0.3em;box-sizing: border-box;text-align: center;}#sk-container-id-1 label.sk-toggleable__label-arrow:before {content: \"▸\";float: left;margin-right: 0.25em;color: #696969;}#sk-container-id-1 label.sk-toggleable__label-arrow:hover:before {color: black;}#sk-container-id-1 div.sk-estimator:hover label.sk-toggleable__label-arrow:before {color: black;}#sk-container-id-1 div.sk-toggleable__content {max-height: 0;max-width: 0;overflow: hidden;text-align: left;background-color: #f0f8ff;}#sk-container-id-1 div.sk-toggleable__content pre {margin: 0.2em;color: black;border-radius: 0.25em;background-color: #f0f8ff;}#sk-container-id-1 input.sk-toggleable__control:checked~div.sk-toggleable__content {max-height: 200px;max-width: 100%;overflow: auto;}#sk-container-id-1 input.sk-toggleable__control:checked~label.sk-toggleable__label-arrow:before {content: \"▾\";}#sk-container-id-1 div.sk-estimator input.sk-toggleable__control:checked~label.sk-toggleable__label {background-color: #d4ebff;}#sk-container-id-1 div.sk-label input.sk-toggleable__control:checked~label.sk-toggleable__label {background-color: #d4ebff;}#sk-container-id-1 input.sk-hidden--visually {border: 0;clip: rect(1px 1px 1px 1px);clip: rect(1px, 1px, 1px, 1px);height: 1px;margin: -1px;overflow: hidden;padding: 0;position: absolute;width: 1px;}#sk-container-id-1 div.sk-estimator {font-family: monospace;background-color: #f0f8ff;border: 1px dotted black;border-radius: 0.25em;box-sizing: border-box;margin-bottom: 0.5em;}#sk-container-id-1 div.sk-estimator:hover {background-color: #d4ebff;}#sk-container-id-1 div.sk-parallel-item::after {content: \"\";width: 100%;border-bottom: 1px solid gray;flex-grow: 1;}#sk-container-id-1 div.sk-label:hover label.sk-toggleable__label {background-color: #d4ebff;}#sk-container-id-1 div.sk-serial::before {content: \"\";position: absolute;border-left: 1px solid gray;box-sizing: border-box;top: 0;bottom: 0;left: 50%;z-index: 0;}#sk-container-id-1 div.sk-serial {display: flex;flex-direction: column;align-items: center;background-color: white;padding-right: 0.2em;padding-left: 0.2em;position: relative;}#sk-container-id-1 div.sk-item {position: relative;z-index: 1;}#sk-container-id-1 div.sk-parallel {display: flex;align-items: stretch;justify-content: center;background-color: white;position: relative;}#sk-container-id-1 div.sk-item::before, #sk-container-id-1 div.sk-parallel-item::before {content: \"\";position: absolute;border-left: 1px solid gray;box-sizing: border-box;top: 0;bottom: 0;left: 50%;z-index: -1;}#sk-container-id-1 div.sk-parallel-item {display: flex;flex-direction: column;z-index: 1;position: relative;background-color: white;}#sk-container-id-1 div.sk-parallel-item:first-child::after {align-self: flex-end;width: 50%;}#sk-container-id-1 div.sk-parallel-item:last-child::after {align-self: flex-start;width: 50%;}#sk-container-id-1 div.sk-parallel-item:only-child::after {width: 0;}#sk-container-id-1 div.sk-dashed-wrapped {border: 1px dashed gray;margin: 0 0.4em 0.5em 0.4em;box-sizing: border-box;padding-bottom: 0.4em;background-color: white;}#sk-container-id-1 div.sk-label label {font-family: monospace;font-weight: bold;display: inline-block;line-height: 1.2em;}#sk-container-id-1 div.sk-label-container {text-align: center;}#sk-container-id-1 div.sk-container {/* jupyter's `normalize.less` sets `[hidden] { display: none; }` but bootstrap.min.css set `[hidden] { display: none !important; }` so we also need the `!important` here to be able to override the default hidden behavior on the sphinx rendered scikit-learn.org. See: https://github.com/scikit-learn/scikit-learn/issues/21755 */display: inline-block !important;position: relative;}#sk-container-id-1 div.sk-text-repr-fallback {display: none;}</style><div id=\"sk-container-id-1\" class=\"sk-top-container\"><div class=\"sk-text-repr-fallback\"><pre>KNeighborsClassifier()</pre><b>In a Jupyter environment, please rerun this cell to show the HTML representation or trust the notebook. <br />On GitHub, the HTML representation is unable to render, please try loading this page with nbviewer.org.</b></div><div class=\"sk-container\" hidden><div class=\"sk-item\"><div class=\"sk-estimator sk-toggleable\"><input class=\"sk-toggleable__control sk-hidden--visually\" id=\"sk-estimator-id-1\" type=\"checkbox\" checked><label for=\"sk-estimator-id-1\" class=\"sk-toggleable__label sk-toggleable__label-arrow\">KNeighborsClassifier</label><div class=\"sk-toggleable__content\"><pre>KNeighborsClassifier()</pre></div></div></div></div></div>"
            ]
          },
          "metadata": {},
          "execution_count": 13
        }
      ]
    },
    {
      "cell_type": "code",
      "source": [
        "pred=knn.predict(X_test)\n",
        "score=accuracy_score(pred,Y_test)\n",
        "score"
      ],
      "metadata": {
        "colab": {
          "base_uri": "https://localhost:8080/"
        },
        "id": "NrqO59Qzw8HO",
        "outputId": "acb41680-7ecf-478e-b99d-ec7382757601"
      },
      "execution_count": null,
      "outputs": [
        {
          "output_type": "execute_result",
          "data": {
            "text/plain": [
              "0.780045351473923"
            ]
          },
          "metadata": {},
          "execution_count": 15
        }
      ]
    },
    {
      "cell_type": "code",
      "source": [],
      "metadata": {
        "id": "GjDuEXmWxMir"
      },
      "execution_count": null,
      "outputs": []
    }
  ]
}